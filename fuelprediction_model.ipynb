{
  "cells": [
    {
      "cell_type": "code",
      "execution_count": null,
      "id": "8db1c77c-52a6-4978-ac1d-8cb95b320705",
      "metadata": {
        "id": "8db1c77c-52a6-4978-ac1d-8cb95b320705"
      },
      "outputs": [],
      "source": [
        "#importing required libraries"
      ]
    },
    {
      "cell_type": "code",
      "execution_count": null,
      "id": "2a4917cd-d8c3-4a12-9924-d8b3154dd729",
      "metadata": {
        "id": "2a4917cd-d8c3-4a12-9924-d8b3154dd729"
      },
      "outputs": [],
      "source": [
        "import pandas as pd\n",
        "import numpy as np\n",
        "from sklearn.preprocessing import LabelEncoder\n",
        "from sklearn.preprocessing import StandardScaler\n",
        "from sklearn.model_selection import train_test_split\n",
        "from sklearn import linear_model\n",
        "from sklearn.linear_model import LinearRegression\n",
        "from sklearn.svm import SVR\n",
        "from sklearn.tree import DecisionTreeRegressor\n",
        "from sklearn.ensemble import RandomForestRegressor\n",
        "from sklearn.ensemble import ExtraTreesClassifier\n",
        "from xgboost import XGBRegressor\n",
        "from sklearn.metrics import mean_absolute_error\n",
        "from sklearn.metrics import mean_squared_error\n",
        "from sklearn.metrics import r2_score\n",
        "import seaborn as sns\n",
        "import matplotlib.pyplot as plt\n",
        "%matplotlib inline\n",
        "import pickle\n",
        "import warnings\n",
        "warnings.filterwarnings('ignore')\n"
      ]
    },
    {
      "cell_type": "code",
      "execution_count": null,
      "id": "414bf066-8f23-4b37-b537-3b80b1702513",
      "metadata": {
        "id": "414bf066-8f23-4b37-b537-3b80b1702513"
      },
      "outputs": [],
      "source": [
        "#read the dataset"
      ]
    },
    {
      "cell_type": "code",
      "execution_count": null,
      "id": "1747e408-96d8-473f-8d4c-cfd150285a80",
      "metadata": {
        "colab": {
          "base_uri": "https://localhost:8080/"
        },
        "id": "1747e408-96d8-473f-8d4c-cfd150285a80",
        "outputId": "63b6fd41-21ce-44ce-8727-a3355ff7bdb8"
      },
      "outputs": [
        {
          "output_type": "stream",
          "name": "stdout",
          "text": [
            "   distance  consume  speed  temp_inside  temp_outside specials gas_type  AC  \\\n",
            "0      28.0      5.0     26         21.5            12      NaN      E10   0   \n",
            "1      12.0      4.2     30         21.5            13      NaN      E10   0   \n",
            "2      11.2      5.5     38         21.5            15      NaN      E10   0   \n",
            "3      12.9      3.9     36         21.5            14      NaN      E10   0   \n",
            "4      18.5      4.5     46         21.5            15      NaN      E10   0   \n",
            "\n",
            "   rain  sun  refill liters refill gas  \n",
            "0     0    0           45.0        E10  \n",
            "1     0    0            NaN        NaN  \n",
            "2     0    0            NaN        NaN  \n",
            "3     0    0            NaN        NaN  \n",
            "4     0    0            NaN        NaN  \n"
          ]
        }
      ],
      "source": [
        "df = pd.read_csv('measurements.csv')\n",
        "print(df.head())"
      ]
    },
    {
      "cell_type": "code",
      "source": [
        "df.info()"
      ],
      "metadata": {
        "colab": {
          "base_uri": "https://localhost:8080/"
        },
        "id": "cqlCjbz6Z5wj",
        "outputId": "b2654f01-7978-475b-b321-5bbbe24b8733"
      },
      "id": "cqlCjbz6Z5wj",
      "execution_count": null,
      "outputs": [
        {
          "output_type": "stream",
          "name": "stdout",
          "text": [
            "<class 'pandas.core.frame.DataFrame'>\n",
            "RangeIndex: 388 entries, 0 to 387\n",
            "Data columns (total 12 columns):\n",
            " #   Column         Non-Null Count  Dtype  \n",
            "---  ------         --------------  -----  \n",
            " 0   distance       388 non-null    float64\n",
            " 1   consume        388 non-null    float64\n",
            " 2   speed          388 non-null    int64  \n",
            " 3   temp_inside    376 non-null    float64\n",
            " 4   temp_outside   388 non-null    int64  \n",
            " 5   specials       93 non-null     object \n",
            " 6   gas_type       388 non-null    object \n",
            " 7   AC             388 non-null    int64  \n",
            " 8   rain           388 non-null    int64  \n",
            " 9   sun            388 non-null    int64  \n",
            " 10  refill liters  13 non-null     float64\n",
            " 11  refill gas     13 non-null     object \n",
            "dtypes: float64(4), int64(5), object(3)\n",
            "memory usage: 36.5+ KB\n"
          ]
        }
      ]
    },
    {
      "cell_type": "code",
      "execution_count": null,
      "id": "e1df90e1-fa88-4085-a9a4-0c815e899efe",
      "metadata": {
        "id": "e1df90e1-fa88-4085-a9a4-0c815e899efe"
      },
      "outputs": [],
      "source": [
        "#check null values"
      ]
    },
    {
      "cell_type": "code",
      "execution_count": null,
      "id": "5a64a616-ffdf-4519-adce-e211c8d305ae",
      "metadata": {
        "colab": {
          "base_uri": "https://localhost:8080/",
          "height": 534
        },
        "id": "5a64a616-ffdf-4519-adce-e211c8d305ae",
        "outputId": "5f817a44-9d5a-4080-dac3-cbd409f44ea0"
      },
      "outputs": [
        {
          "output_type": "execute_result",
          "data": {
            "text/plain": [
              "<Axes: >"
            ]
          },
          "metadata": {},
          "execution_count": 6
        },
        {
          "output_type": "display_data",
          "data": {
            "text/plain": [
              "<Figure size 640x480 with 2 Axes>"
            ],
            "image/png": "[encoded data removed]"
          },
          "metadata": {}
        }
      ],
      "source": [
        "import seaborn as sns\n",
        "sns.heatmap(df.isnull())"
      ]
    },
    {
      "cell_type": "code",
      "execution_count": null,
      "id": "767bf719-a981-41b0-92b7-77aa78e96c19",
      "metadata": {
        "colab": {
          "base_uri": "https://localhost:8080/",
          "height": 423
        },
        "id": "767bf719-a981-41b0-92b7-77aa78e96c19",
        "outputId": "03762dd0-0e77-4c46-8701-de42c8ee9073"
      },
      "outputs": [
        {
          "output_type": "execute_result",
          "data": {
            "text/plain": [
              "     distance  consume  speed  temp_inside  temp_outside  specials  gas_type  \\\n",
              "0       False    False  False        False         False      True     False   \n",
              "1       False    False  False        False         False      True     False   \n",
              "2       False    False  False        False         False      True     False   \n",
              "3       False    False  False        False         False      True     False   \n",
              "4       False    False  False        False         False      True     False   \n",
              "..        ...      ...    ...          ...           ...       ...       ...   \n",
              "383     False    False  False        False         False      True     False   \n",
              "384     False    False  False        False         False     False     False   \n",
              "385     False    False  False        False         False      True     False   \n",
              "386     False    False  False        False         False     False     False   \n",
              "387     False    False  False        False         False     False     False   \n",
              "\n",
              "        AC   rain    sun  refill liters  refill gas  \n",
              "0    False  False  False          False       False  \n",
              "1    False  False  False           True        True  \n",
              "2    False  False  False           True        True  \n",
              "3    False  False  False           True        True  \n",
              "4    False  False  False           True        True  \n",
              "..     ...    ...    ...            ...         ...  \n",
              "383  False  False  False           True        True  \n",
              "384  False  False  False           True        True  \n",
              "385  False  False  False           True        True  \n",
              "386  False  False  False           True        True  \n",
              "387  False  False  False           True        True  \n",
              "\n",
              "[388 rows x 12 columns]"
            ],
            "text/html": [
              "\n",
              "  <div id=\"df-00ee0726-84ad-423b-a33e-235fc1f6a06c\" class=\"colab-df-container\">\n",
              "    <div>\n",
              "<style scoped>\n",
              "    .dataframe tbody tr th:only-of-type {\n",
              "        vertical-align: middle;\n",
              "    }\n",
              "\n",
              "    .dataframe tbody tr th {\n",
              "        vertical-align: top;\n",
              "    }\n",
              "\n",
              "    .dataframe thead th {\n",
              "        text-align: right;\n",
              "    }\n",
              "</style>\n",
              "<table border=\"1\" class=\"dataframe\">\n",
              "  <thead>\n",
              "    <tr style=\"text-align: right;\">\n",
              "      <th></th>\n",
              "      <th>distance</th>\n",
              "      <th>consume</th>\n",
              "      <th>speed</th>\n",
              "      <th>temp_inside</th>\n",
              "      <th>temp_outside</th>\n",
              "      <th>specials</th>\n",
              "      <th>gas_type</th>\n",
              "      <th>AC</th>\n",
              "      <th>rain</th>\n",
              "      <th>sun</th>\n",
              "      <th>refill liters</th>\n",
              "      <th>refill gas</th>\n",
              "    </tr>\n",
              "  </thead>\n",
              "  <tbody>\n",
              "    <tr>\n",
              "      <th>0</th>\n",
              "      <td>False</td>\n",
              "      <td>False</td>\n",
              "      <td>False</td>\n",
              "      <td>False</td>\n",
              "      <td>False</td>\n",
              "      <td>True</td>\n",
              "      <td>False</td>\n",
              "      <td>False</td>\n",
              "      <td>False</td>\n",
              "      <td>False</td>\n",
              "      <td>False</td>\n",
              "      <td>False</td>\n",
              "    </tr>\n",
              "    <tr>\n",
              "      <th>1</th>\n",
              "      <td>False</td>\n",
              "      <td>False</td>\n",
              "      <td>False</td>\n",
              "      <td>False</td>\n",
              "      <td>False</td>\n",
              "      <td>True</td>\n",
              "      <td>False</td>\n",
              "      <td>False</td>\n",
              "      <td>False</td>\n",
              "      <td>False</td>\n",
              "      <td>True</td>\n",
              "      <td>True</td>\n",
              "    </tr>\n",
              "    <tr>\n",
              "      <th>2</th>\n",
              "      <td>False</td>\n",
              "      <td>False</td>\n",
              "      <td>False</td>\n",
              "      <td>False</td>\n",
              "      <td>False</td>\n",
              "      <td>True</td>\n",
              "      <td>False</td>\n",
              "      <td>False</td>\n",
              "      <td>False</td>\n",
              "      <td>False</td>\n",
              "      <td>True</td>\n",
              "      <td>True</td>\n",
              "    </tr>\n",
              "    <tr>\n",
              "      <th>3</th>\n",
              "      <td>False</td>\n",
              "      <td>False</td>\n",
              "      <td>False</td>\n",
              "      <td>False</td>\n",
              "      <td>False</td>\n",
              "      <td>True</td>\n",
              "      <td>False</td>\n",
              "      <td>False</td>\n",
              "      <td>False</td>\n",
              "      <td>False</td>\n",
              "      <td>True</td>\n",
              "      <td>True</td>\n",
              "    </tr>\n",
              "    <tr>\n",
              "      <th>4</th>\n",
              "      <td>False</td>\n",
              "      <td>False</td>\n",
              "      <td>False</td>\n",
              "      <td>False</td>\n",
              "      <td>False</td>\n",
              "      <td>True</td>\n",
              "      <td>False</td>\n",
              "      <td>False</td>\n",
              "      <td>False</td>\n",
              "      <td>False</td>\n",
              "      <td>True</td>\n",
              "      <td>True</td>\n",
              "    </tr>\n",
              "    <tr>\n",
              "      <th>...</th>\n",
              "      <td>...</td>\n",
              "      <td>...</td>\n",
              "      <td>...</td>\n",
              "      <td>...</td>\n",
              "      <td>...</td>\n",
              "      <td>...</td>\n",
              "      <td>...</td>\n",
              "      <td>...</td>\n",
              "      <td>...</td>\n",
              "      <td>...</td>\n",
              "      <td>...</td>\n",
              "      <td>...</td>\n",
              "    </tr>\n",
              "    <tr>\n",
              "      <th>383</th>\n",
              "      <td>False</td>\n",
              "      <td>False</td>\n",
              "      <td>False</td>\n",
              "      <td>False</td>\n",
              "      <td>False</td>\n",
              "      <td>True</td>\n",
              "      <td>False</td>\n",
              "      <td>False</td>\n",
              "      <td>False</td>\n",
              "      <td>False</td>\n",
              "      <td>True</td>\n",
              "      <td>True</td>\n",
              "    </tr>\n",
              "    <tr>\n",
              "      <th>384</th>\n",
              "      <td>False</td>\n",
              "      <td>False</td>\n",
              "      <td>False</td>\n",
              "      <td>False</td>\n",
              "      <td>False</td>\n",
              "      <td>False</td>\n",
              "      <td>False</td>\n",
              "      <td>False</td>\n",
              "      <td>False</td>\n",
              "      <td>False</td>\n",
              "      <td>True</td>\n",
              "      <td>True</td>\n",
              "    </tr>\n",
              "    <tr>\n",
              "      <th>385</th>\n",
              "      <td>False</td>\n",
              "      <td>False</td>\n",
              "      <td>False</td>\n",
              "      <td>False</td>\n",
              "      <td>False</td>\n",
              "      <td>True</td>\n",
              "      <td>False</td>\n",
              "      <td>False</td>\n",
              "      <td>False</td>\n",
              "      <td>False</td>\n",
              "      <td>True</td>\n",
              "      <td>True</td>\n",
              "    </tr>\n",
              "    <tr>\n",
              "      <th>386</th>\n",
              "      <td>False</td>\n",
              "      <td>False</td>\n",
              "      <td>False</td>\n",
              "      <td>False</td>\n",
              "      <td>False</td>\n",
              "      <td>False</td>\n",
              "      <td>False</td>\n",
              "      <td>False</td>\n",
              "      <td>False</td>\n",
              "      <td>False</td>\n",
              "      <td>True</td>\n",
              "      <td>True</td>\n",
              "    </tr>\n",
              "    <tr>\n",
              "      <th>387</th>\n",
              "      <td>False</td>\n",
              "      <td>False</td>\n",
              "      <td>False</td>\n",
              "      <td>False</td>\n",
              "      <td>False</td>\n",
              "      <td>False</td>\n",
              "      <td>False</td>\n",
              "      <td>False</td>\n",
              "      <td>False</td>\n",
              "      <td>False</td>\n",
              "      <td>True</td>\n",
              "      <td>True</td>\n",
              "    </tr>\n",
              "  </tbody>\n",
              "</table>\n",
              "<p>388 rows × 12 columns</p>\n",
              "</div>\n",
              "    <div class=\"colab-df-buttons\">\n",
              "\n",
              "  <div class=\"colab-df-container\">\n",
              "    <button class=\"colab-df-convert\" onclick=\"convertToInteractive('df-00ee0726-84ad-423b-a33e-235fc1f6a06c')\"\n",
              "            title=\"Convert this dataframe to an interactive table.\"\n",
              "            style=\"display:none;\">\n",
              "\n",
              "  <svg xmlns=\"http://www.w3.org/2000/svg\" height=\"24px\" viewBox=\"0 -960 960 960\">\n",
              "    <path d=\"M120-120v-720h720v720H120Zm60-500h600v-160H180v160Zm220 220h160v-160H400v160Zm0 220h160v-160H400v160ZM180-400h160v-160H180v160Zm440 0h160v-160H620v160ZM180-180h160v-160H180v160Zm440 0h160v-160H620v160Z\"/>\n",
              "  </svg>\n",
              "    </button>\n",
              "\n",
              "  <style>\n",
              "    .colab-df-container {\n",
              "      display:flex;\n",
              "      gap: 12px;\n",
              "    }\n",
              "\n",
              "    .colab-df-convert {\n",
              "      background-color: #E8F0FE;\n",
              "      border: none;\n",
              "      border-radius: 50%;\n",
              "      cursor: pointer;\n",
              "      display: none;\n",
              "      fill: #1967D2;\n",
              "      height: 32px;\n",
              "      padding: 0 0 0 0;\n",
              "      width: 32px;\n",
              "    }\n",
              "\n",
              "    .colab-df-convert:hover {\n",
              "      background-color: #E2EBFA;\n",
              "      box-shadow: 0px 1px 2px rgba(60, 64, 67, 0.3), 0px 1px 3px 1px rgba(60, 64, 67, 0.15);\n",
              "      fill: #174EA6;\n",
              "    }\n",
              "\n",
              "    .colab-df-buttons div {\n",
              "      margin-bottom: 4px;\n",
              "    }\n",
              "\n",
              "    [theme=dark] .colab-df-convert {\n",
              "      background-color: #3B4455;\n",
              "      fill: #D2E3FC;\n",
              "    }\n",
              "\n",
              "    [theme=dark] .colab-df-convert:hover {\n",
              "      background-color: #434B5C;\n",
              "      box-shadow: 0px 1px 3px 1px rgba(0, 0, 0, 0.15);\n",
              "      filter: drop-shadow(0px 1px 2px rgba(0, 0, 0, 0.3));\n",
              "      fill: #FFFFFF;\n",
              "    }\n",
              "  </style>\n",
              "\n",
              "    <script>\n",
              "      const buttonEl =\n",
              "        document.querySelector('#df-00ee0726-84ad-423b-a33e-235fc1f6a06c button.colab-df-convert');\n",
              "      buttonEl.style.display =\n",
              "        google.colab.kernel.accessAllowed ? 'block' : 'none';\n",
              "\n",
              "      async function convertToInteractive(key) {\n",
              "        const element = document.querySelector('#df-00ee0726-84ad-423b-a33e-235fc1f6a06c');\n",
              "        const dataTable =\n",
              "          await google.colab.kernel.invokeFunction('convertToInteractive',\n",
              "                                                    [key], {});\n",
              "        if (!dataTable) return;\n",
              "\n",
              "        const docLinkHtml = 'Like what you see? Visit the ' +\n",
              "          '<a target=\"_blank\" href=https://colab.research.google.com/notebooks/data_table.ipynb>data table notebook</a>'\n",
              "          + ' to learn more about interactive tables.';\n",
              "        element.innerHTML = '';\n",
              "        dataTable['output_type'] = 'display_data';\n",
              "        await google.colab.output.renderOutput(dataTable, element);\n",
              "        const docLink = document.createElement('div');\n",
              "        docLink.innerHTML = docLinkHtml;\n",
              "        element.appendChild(docLink);\n",
              "      }\n",
              "    </script>\n",
              "  </div>\n",
              "\n",
              "\n",
              "<div id=\"df-abe46a00-b5c4-47d0-9699-baecb37d7f49\">\n",
              "  <button class=\"colab-df-quickchart\" onclick=\"quickchart('df-abe46a00-b5c4-47d0-9699-baecb37d7f49')\"\n",
              "            title=\"Suggest charts\"\n",
              "            style=\"display:none;\">\n",
              "\n",
              "<svg xmlns=\"http://www.w3.org/2000/svg\" height=\"24px\"viewBox=\"0 0 24 24\"\n",
              "     width=\"24px\">\n",
              "    <g>\n",
              "        <path d=\"M19 3H5c-1.1 0-2 .9-2 2v14c0 1.1.9 2 2 2h14c1.1 0 2-.9 2-2V5c0-1.1-.9-2-2-2zM9 17H7v-7h2v7zm4 0h-2V7h2v10zm4 0h-2v-4h2v4z\"/>\n",
              "    </g>\n",
              "</svg>\n",
              "  </button>\n",
              "\n",
              "<style>\n",
              "  .colab-df-quickchart {\n",
              "      --bg-color: #E8F0FE;\n",
              "      --fill-color: #1967D2;\n",
              "      --hover-bg-color: #E2EBFA;\n",
              "      --hover-fill-color: #174EA6;\n",
              "      --disabled-fill-color: #AAA;\n",
              "      --disabled-bg-color: #DDD;\n",
              "  }\n",
              "\n",
              "  [theme=dark] .colab-df-quickchart {\n",
              "      --bg-color: #3B4455;\n",
              "      --fill-color: #D2E3FC;\n",
              "      --hover-bg-color: #434B5C;\n",
              "      --hover-fill-color: #FFFFFF;\n",
              "      --disabled-bg-color: #3B4455;\n",
              "      --disabled-fill-color: #666;\n",
              "  }\n",
              "\n",
              "  .colab-df-quickchart {\n",
              "    background-color: var(--bg-color);\n",
              "    border: none;\n",
              "    border-radius: 50%;\n",
              "    cursor: pointer;\n",
              "    display: none;\n",
              "    fill: var(--fill-color);\n",
              "    height: 32px;\n",
              "    padding: 0;\n",
              "    width: 32px;\n",
              "  }\n",
              "\n",
              "  .colab-df-quickchart:hover {\n",
              "    background-color: var(--hover-bg-color);\n",
              "    box-shadow: 0 1px 2px rgba(60, 64, 67, 0.3), 0 1px 3px 1px rgba(60, 64, 67, 0.15);\n",
              "    fill: var(--button-hover-fill-color);\n",
              "  }\n",
              "\n",
              "  .colab-df-quickchart-complete:disabled,\n",
              "  .colab-df-quickchart-complete:disabled:hover {\n",
              "    background-color: var(--disabled-bg-color);\n",
              "    fill: var(--disabled-fill-color);\n",
              "    box-shadow: none;\n",
              "  }\n",
              "\n",
              "  .colab-df-spinner {\n",
              "    border: 2px solid var(--fill-color);\n",
              "    border-color: transparent;\n",
              "    border-bottom-color: var(--fill-color);\n",
              "    animation:\n",
              "      spin 1s steps(1) infinite;\n",
              "  }\n",
              "\n",
              "  @keyframes spin {\n",
              "    0% {\n",
              "      border-color: transparent;\n",
              "      border-bottom-color: var(--fill-color);\n",
              "      border-left-color: var(--fill-color);\n",
              "    }\n",
              "    20% {\n",
              "      border-color: transparent;\n",
              "      border-left-color: var(--fill-color);\n",
              "      border-top-color: var(--fill-color);\n",
              "    }\n",
              "    30% {\n",
              "      border-color: transparent;\n",
              "      border-left-color: var(--fill-color);\n",
              "      border-top-color: var(--fill-color);\n",
              "      border-right-color: var(--fill-color);\n",
              "    }\n",
              "    40% {\n",
              "      border-color: transparent;\n",
              "      border-right-color: var(--fill-color);\n",
              "      border-top-color: var(--fill-color);\n",
              "    }\n",
              "    60% {\n",
              "      border-color: transparent;\n",
              "      border-right-color: var(--fill-color);\n",
              "    }\n",
              "    80% {\n",
              "      border-color: transparent;\n",
              "      border-right-color: var(--fill-color);\n",
              "      border-bottom-color: var(--fill-color);\n",
              "    }\n",
              "    90% {\n",
              "      border-color: transparent;\n",
              "      border-bottom-color: var(--fill-color);\n",
              "    }\n",
              "  }\n",
              "</style>\n",
              "\n",
              "  <script>\n",
              "    async function quickchart(key) {\n",
              "      const quickchartButtonEl =\n",
              "        document.querySelector('#' + key + ' button');\n",
              "      quickchartButtonEl.disabled = true;  // To prevent multiple clicks.\n",
              "      quickchartButtonEl.classList.add('colab-df-spinner');\n",
              "      try {\n",
              "        const charts = await google.colab.kernel.invokeFunction(\n",
              "            'suggestCharts', [key], {});\n",
              "      } catch (error) {\n",
              "        console.error('Error during call to suggestCharts:', error);\n",
              "      }\n",
              "      quickchartButtonEl.classList.remove('colab-df-spinner');\n",
              "      quickchartButtonEl.classList.add('colab-df-quickchart-complete');\n",
              "    }\n",
              "    (() => {\n",
              "      let quickchartButtonEl =\n",
              "        document.querySelector('#df-abe46a00-b5c4-47d0-9699-baecb37d7f49 button');\n",
              "      quickchartButtonEl.style.display =\n",
              "        google.colab.kernel.accessAllowed ? 'block' : 'none';\n",
              "    })();\n",
              "  </script>\n",
              "</div>\n",
              "\n",
              "    </div>\n",
              "  </div>\n"
            ],
            "application/vnd.google.colaboratory.intrinsic+json": {
              "type": "dataframe",
              "summary": "{\n  \"name\": \"df\",\n  \"rows\": 388,\n  \"fields\": [\n    {\n      \"column\": \"distance\",\n      \"properties\": {\n        \"dtype\": \"boolean\",\n        \"num_unique_values\": 1,\n        \"samples\": [\n          false\n        ],\n        \"semantic_type\": \"\",\n        \"description\": \"\"\n      }\n    },\n    {\n      \"column\": \"consume\",\n      \"properties\": {\n        \"dtype\": \"boolean\",\n        \"num_unique_values\": 1,\n        \"samples\": [\n          false\n        ],\n        \"semantic_type\": \"\",\n        \"description\": \"\"\n      }\n    },\n    {\n      \"column\": \"speed\",\n      \"properties\": {\n        \"dtype\": \"boolean\",\n        \"num_unique_values\": 1,\n        \"samples\": [\n          false\n        ],\n        \"semantic_type\": \"\",\n        \"description\": \"\"\n      }\n    },\n    {\n      \"column\": \"temp_inside\",\n      \"properties\": {\n        \"dtype\": \"boolean\",\n        \"num_unique_values\": 2,\n        \"samples\": [\n          true\n        ],\n        \"semantic_type\": \"\",\n        \"description\": \"\"\n      }\n    },\n    {\n      \"column\": \"temp_outside\",\n      \"properties\": {\n        \"dtype\": \"boolean\",\n        \"num_unique_values\": 1,\n        \"samples\": [\n          false\n        ],\n        \"semantic_type\": \"\",\n        \"description\": \"\"\n      }\n    },\n    {\n      \"column\": \"specials\",\n      \"properties\": {\n        \"dtype\": \"boolean\",\n        \"num_unique_values\": 2,\n        \"samples\": [\n          false\n        ],\n        \"semantic_type\": \"\",\n        \"description\": \"\"\n      }\n    },\n    {\n      \"column\": \"gas_type\",\n      \"properties\": {\n        \"dtype\": \"boolean\",\n        \"num_unique_values\": 1,\n        \"samples\": [\n          false\n        ],\n        \"semantic_type\": \"\",\n        \"description\": \"\"\n      }\n    },\n    {\n      \"column\": \"AC\",\n      \"properties\": {\n        \"dtype\": \"boolean\",\n        \"num_unique_values\": 1,\n        \"samples\": [\n          false\n        ],\n        \"semantic_type\": \"\",\n        \"description\": \"\"\n      }\n    },\n    {\n      \"column\": \"rain\",\n      \"properties\": {\n        \"dtype\": \"boolean\",\n        \"num_unique_values\": 1,\n        \"samples\": [\n          false\n        ],\n        \"semantic_type\": \"\",\n        \"description\": \"\"\n      }\n    },\n    {\n      \"column\": \"sun\",\n      \"properties\": {\n        \"dtype\": \"boolean\",\n        \"num_unique_values\": 1,\n        \"samples\": [\n          false\n        ],\n        \"semantic_type\": \"\",\n        \"description\": \"\"\n      }\n    },\n    {\n      \"column\": \"refill liters\",\n      \"properties\": {\n        \"dtype\": \"boolean\",\n        \"num_unique_values\": 2,\n        \"samples\": [\n          true\n        ],\n        \"semantic_type\": \"\",\n        \"description\": \"\"\n      }\n    },\n    {\n      \"column\": \"refill gas\",\n      \"properties\": {\n        \"dtype\": \"boolean\",\n        \"num_unique_values\": 2,\n        \"samples\": [\n          true\n        ],\n        \"semantic_type\": \"\",\n        \"description\": \"\"\n      }\n    }\n  ]\n}"
            }
          },
          "metadata": {},
          "execution_count": 8
        }
      ],
      "source": [
        "df.isnull()"
      ]
    },
    {
      "cell_type": "code",
      "execution_count": null,
      "id": "4715df0c-be23-47ec-9088-03df65102735",
      "metadata": {
        "colab": {
          "base_uri": "https://localhost:8080/",
          "height": 530
        },
        "id": "4715df0c-be23-47ec-9088-03df65102735",
        "outputId": "4205b962-1395-44be-a886-5db255b38623"
      },
      "outputs": [
        {
          "output_type": "display_data",
          "data": {
            "text/plain": [
              "<Figure size 640x480 with 1 Axes>"
            ],
            "image/png": "[encoded data removed]"
          },
          "metadata": {}
        }
      ],
      "source": [
        "null_values=df.isnull().sum().sort_values(ascending=False)\n",
        "ax=sns.barplot(x=null_values.index,y=null_values)\n",
        "ax.set_xticklabels(ax.get_xticklabels(),rotation=90)\n",
        "import matplotlib.pyplot as plt\n",
        "plt.show()"
      ]
    },
    {
      "cell_type": "code",
      "execution_count": null,
      "id": "aef4259d-b925-4954-b58c-47cf21d9c295",
      "metadata": {
        "id": "aef4259d-b925-4954-b58c-47cf21d9c295"
      },
      "outputs": [],
      "source": [
        "#removing null values"
      ]
    },
    {
      "cell_type": "code",
      "execution_count": null,
      "id": "cc0ad328-4ea9-478a-a105-59bbcb653f4c",
      "metadata": {
        "colab": {
          "base_uri": "https://localhost:8080/",
          "height": 534
        },
        "id": "cc0ad328-4ea9-478a-a105-59bbcb653f4c",
        "outputId": "e2c38365-ed17-4bb7-bad9-8adfe3c30861"
      },
      "outputs": [
        {
          "output_type": "execute_result",
          "data": {
            "text/plain": [
              "<Axes: >"
            ]
          },
          "metadata": {},
          "execution_count": 11
        },
        {
          "output_type": "display_data",
          "data": {
            "text/plain": [
              "<Figure size 640x480 with 2 Axes>"
            ],
            "image/png": "[encoded data removed]"
          },
          "metadata": {}
        }
      ],
      "source": [
        "df.drop(['refill gas','refill liters','specials'],axis=1,inplace=True)\n",
        "sns.heatmap(df.isnull())"
      ]
    },
    {
      "cell_type": "code",
      "execution_count": null,
      "id": "58634172-077a-4b34-8144-03470ab2ffb3",
      "metadata": {
        "id": "58634172-077a-4b34-8144-03470ab2ffb3"
      },
      "outputs": [],
      "source": [
        "#handling null values"
      ]
    },
    {
      "cell_type": "code",
      "execution_count": null,
      "id": "4777fb8b-3384-4d31-84c1-db17de8ba87b",
      "metadata": {
        "id": "4777fb8b-3384-4d31-84c1-db17de8ba87b"
      },
      "outputs": [],
      "source": [
        "temp_inside_mean=np.mean(df['temp_inside'])"
      ]
    },
    {
      "cell_type": "code",
      "execution_count": null,
      "id": "8df4b337-7e92-44f3-a4a7-be1b3bdf13fb",
      "metadata": {
        "colab": {
          "base_uri": "https://localhost:8080/"
        },
        "id": "8df4b337-7e92-44f3-a4a7-be1b3bdf13fb",
        "outputId": "8f24e221-4f89-4f6e-e4de-e7698fcb9fda"
      },
      "outputs": [
        {
          "output_type": "stream",
          "name": "stdout",
          "text": [
            "21.929521276595743\n"
          ]
        }
      ],
      "source": [
        "print(temp_inside_mean)"
      ]
    },
    {
      "cell_type": "code",
      "execution_count": null,
      "id": "e07b0e02-d49f-405a-a209-f12074468508",
      "metadata": {
        "id": "e07b0e02-d49f-405a-a209-f12074468508"
      },
      "outputs": [],
      "source": [
        "df['temp_inside'].fillna(temp_inside_mean,inplace=True)"
      ]
    },
    {
      "cell_type": "code",
      "execution_count": null,
      "id": "c1b166a8-c24d-418b-934f-b513dbbdb91c",
      "metadata": {
        "colab": {
          "base_uri": "https://localhost:8080/",
          "height": 534
        },
        "id": "c1b166a8-c24d-418b-934f-b513dbbdb91c",
        "outputId": "f9e6558a-a275-414d-e35d-a416cfb4ca77"
      },
      "outputs": [
        {
          "output_type": "execute_result",
          "data": {
            "text/plain": [
              "<Axes: >"
            ]
          },
          "metadata": {},
          "execution_count": 16
        },
        {
          "output_type": "display_data",
          "data": {
            "text/plain": [
              "<Figure size 640x480 with 2 Axes>"
            ],
            "image/png": "[encoded data removed]"
          },
          "metadata": {}
        }
      ],
      "source": [
        "sns.heatmap(df.isnull())"
      ]
    },
    {
      "cell_type": "code",
      "execution_count": null,
      "id": "a618ba02-9b90-4f9a-aae8-724aa9156a4c",
      "metadata": {
        "id": "a618ba02-9b90-4f9a-aae8-724aa9156a4c"
      },
      "outputs": [],
      "source": [
        "#seperating independent and dependent variables"
      ]
    },
    {
      "cell_type": "code",
      "execution_count": null,
      "id": "92927012-3ad4-45b3-8120-e79bd986b657",
      "metadata": {
        "id": "92927012-3ad4-45b3-8120-e79bd986b657"
      },
      "outputs": [],
      "source": [
        "from sklearn.model_selection import train_test_split\n",
        "\n"
      ]
    },
    {
      "cell_type": "code",
      "execution_count": null,
      "id": "b29c2798-9c38-4e82-9d02-c404f727205e",
      "metadata": {
        "id": "b29c2798-9c38-4e82-9d02-c404f727205e"
      },
      "outputs": [],
      "source": [
        "x=df.drop(['consume','gas_type'],axis=1)\n",
        "y=df['consume']"
      ]
    },
    {
      "cell_type": "code",
      "execution_count": null,
      "id": "34370303-3d0f-4540-9c65-66eaced83056",
      "metadata": {
        "colab": {
          "base_uri": "https://localhost:8080/"
        },
        "id": "34370303-3d0f-4540-9c65-66eaced83056",
        "outputId": "eda65ed7-0788-43a7-c7c9-0d24921fc6fe"
      },
      "outputs": [
        {
          "output_type": "execute_result",
          "data": {
            "text/plain": [
              "Index(['distance', 'speed', 'temp_inside', 'temp_outside', 'AC', 'rain',\n",
              "       'sun'],\n",
              "      dtype='object')"
            ]
          },
          "metadata": {},
          "execution_count": 19
        }
      ],
      "source": [
        "x.columns"
      ]
    },
    {
      "cell_type": "code",
      "execution_count": null,
      "id": "1773c6e5-7e70-4348-8475-9b9e9d994814",
      "metadata": {
        "id": "1773c6e5-7e70-4348-8475-9b9e9d994814"
      },
      "outputs": [],
      "source": [
        "x=x.values\n",
        "y=y.values"
      ]
    },
    {
      "cell_type": "code",
      "execution_count": null,
      "id": "63aedce4-aa57-4f50-898f-f4ebb8020632",
      "metadata": {
        "id": "63aedce4-aa57-4f50-898f-f4ebb8020632"
      },
      "outputs": [],
      "source": [
        "#Splitting Data Into Train And Test"
      ]
    },
    {
      "cell_type": "code",
      "execution_count": null,
      "id": "f6735912-08b7-45cf-b06b-532f770c8c27",
      "metadata": {
        "id": "f6735912-08b7-45cf-b06b-532f770c8c27"
      },
      "outputs": [],
      "source": [
        "x_train,x_test,y_train,y_test=train_test_split(x,y,test_size=0.3,random_state=42)"
      ]
    },
    {
      "cell_type": "code",
      "execution_count": null,
      "id": "4e652b28-322e-4b9d-b767-f54c91bc7f21",
      "metadata": {
        "id": "4e652b28-322e-4b9d-b767-f54c91bc7f21"
      },
      "outputs": [],
      "source": [
        "#Training The Model In Multiple Algorithms"
      ]
    },
    {
      "cell_type": "code",
      "execution_count": null,
      "id": "356752e7-5308-4474-84c9-5abf2a4b0fa1",
      "metadata": {
        "id": "356752e7-5308-4474-84c9-5abf2a4b0fa1"
      },
      "outputs": [],
      "source": [
        "#Linear Regression"
      ]
    },
    {
      "cell_type": "code",
      "execution_count": null,
      "id": "4b24abe9-5597-42fd-a340-57d1b2cc9e53",
      "metadata": {
        "colab": {
          "base_uri": "https://localhost:8080/",
          "height": 74
        },
        "id": "4b24abe9-5597-42fd-a340-57d1b2cc9e53",
        "outputId": "a6c22968-b9a0-4879-8168-7a0912439f9f"
      },
      "outputs": [
        {
          "output_type": "execute_result",
          "data": {
            "text/plain": [
              "LinearRegression()"
            ],
            "text/html": [
              "<style>#sk-container-id-1 {color: black;background-color: white;}#sk-container-id-1 pre{padding: 0;}#sk-container-id-1 div.sk-toggleable {background-color: white;}#sk-container-id-1 label.sk-toggleable__label {cursor: pointer;display: block;width: 100%;margin-bottom: 0;padding: 0.3em;box-sizing: border-box;text-align: center;}#sk-container-id-1 label.sk-toggleable__label-arrow:before {content: \"▸\";float: left;margin-right: 0.25em;color: #696969;}#sk-container-id-1 label.sk-toggleable__label-arrow:hover:before {color: black;}#sk-container-id-1 div.sk-estimator:hover label.sk-toggleable__label-arrow:before {color: black;}#sk-container-id-1 div.sk-toggleable__content {max-height: 0;max-width: 0;overflow: hidden;text-align: left;background-color: #f0f8ff;}#sk-container-id-1 div.sk-toggleable__content pre {margin: 0.2em;color: black;border-radius: 0.25em;background-color: #f0f8ff;}#sk-container-id-1 input.sk-toggleable__control:checked~div.sk-toggleable__content {max-height: 200px;max-width: 100%;overflow: auto;}#sk-container-id-1 input.sk-toggleable__control:checked~label.sk-toggleable__label-arrow:before {content: \"▾\";}#sk-container-id-1 div.sk-estimator input.sk-toggleable__control:checked~label.sk-toggleable__label {background-color: #d4ebff;}#sk-container-id-1 div.sk-label input.sk-toggleable__control:checked~label.sk-toggleable__label {background-color: #d4ebff;}#sk-container-id-1 input.sk-hidden--visually {border: 0;clip: rect(1px 1px 1px 1px);clip: rect(1px, 1px, 1px, 1px);height: 1px;margin: -1px;overflow: hidden;padding: 0;position: absolute;width: 1px;}#sk-container-id-1 div.sk-estimator {font-family: monospace;background-color: #f0f8ff;border: 1px dotted black;border-radius: 0.25em;box-sizing: border-box;margin-bottom: 0.5em;}#sk-container-id-1 div.sk-estimator:hover {background-color: #d4ebff;}#sk-container-id-1 div.sk-parallel-item::after {content: \"\";width: 100%;border-bottom: 1px solid gray;flex-grow: 1;}#sk-container-id-1 div.sk-label:hover label.sk-toggleable__label {background-color: #d4ebff;}#sk-container-id-1 div.sk-serial::before {content: \"\";position: absolute;border-left: 1px solid gray;box-sizing: border-box;top: 0;bottom: 0;left: 50%;z-index: 0;}#sk-container-id-1 div.sk-serial {display: flex;flex-direction: column;align-items: center;background-color: white;padding-right: 0.2em;padding-left: 0.2em;position: relative;}#sk-container-id-1 div.sk-item {position: relative;z-index: 1;}#sk-container-id-1 div.sk-parallel {display: flex;align-items: stretch;justify-content: center;background-color: white;position: relative;}#sk-container-id-1 div.sk-item::before, #sk-container-id-1 div.sk-parallel-item::before {content: \"\";position: absolute;border-left: 1px solid gray;box-sizing: border-box;top: 0;bottom: 0;left: 50%;z-index: -1;}#sk-container-id-1 div.sk-parallel-item {display: flex;flex-direction: column;z-index: 1;position: relative;background-color: white;}#sk-container-id-1 div.sk-parallel-item:first-child::after {align-self: flex-end;width: 50%;}#sk-container-id-1 div.sk-parallel-item:last-child::after {align-self: flex-start;width: 50%;}#sk-container-id-1 div.sk-parallel-item:only-child::after {width: 0;}#sk-container-id-1 div.sk-dashed-wrapped {border: 1px dashed gray;margin: 0 0.4em 0.5em 0.4em;box-sizing: border-box;padding-bottom: 0.4em;background-color: white;}#sk-container-id-1 div.sk-label label {font-family: monospace;font-weight: bold;display: inline-block;line-height: 1.2em;}#sk-container-id-1 div.sk-label-container {text-align: center;}#sk-container-id-1 div.sk-container {/* jupyter's `normalize.less` sets `[hidden] { display: none; }` but bootstrap.min.css set `[hidden] { display: none !important; }` so we also need the `!important` here to be able to override the default hidden behavior on the sphinx rendered scikit-learn.org. See: https://github.com/scikit-learn/scikit-learn/issues/21755 */display: inline-block !important;position: relative;}#sk-container-id-1 div.sk-text-repr-fallback {display: none;}</style><div id=\"sk-container-id-1\" class=\"sk-top-container\"><div class=\"sk-text-repr-fallback\"><pre>LinearRegression()</pre><b>In a Jupyter environment, please rerun this cell to show the HTML representation or trust the notebook. <br />On GitHub, the HTML representation is unable to render, please try loading this page with nbviewer.org.</b></div><div class=\"sk-container\" hidden><div class=\"sk-item\"><div class=\"sk-estimator sk-toggleable\"><input class=\"sk-toggleable__control sk-hidden--visually\" id=\"sk-estimator-id-1\" type=\"checkbox\" checked><label for=\"sk-estimator-id-1\" class=\"sk-toggleable__label sk-toggleable__label-arrow\">LinearRegression</label><div class=\"sk-toggleable__content\"><pre>LinearRegression()</pre></div></div></div></div></div>"
            ]
          },
          "metadata": {},
          "execution_count": 25
        }
      ],
      "source": [
        "linReg = LinearRegression()\n",
        "linReg.fit(x_train,y_train)"
      ]
    },
    {
      "cell_type": "code",
      "execution_count": null,
      "id": "d49f2f9a-cf7e-4a21-9487-33886c0a4cbe",
      "metadata": {
        "colab": {
          "base_uri": "https://localhost:8080/"
        },
        "id": "d49f2f9a-cf7e-4a21-9487-33886c0a4cbe",
        "outputId": "f91e0af9-6050-4d37-fdc4-c3c385ad5caa"
      },
      "outputs": [
        {
          "output_type": "execute_result",
          "data": {
            "text/plain": [
              "(271, 7)"
            ]
          },
          "metadata": {},
          "execution_count": 26
        }
      ],
      "source": [
        "x_train.shape"
      ]
    },
    {
      "cell_type": "code",
      "execution_count": null,
      "id": "238f6ea4-fd9a-43a6-82b8-35aeb5f834c3",
      "metadata": {
        "colab": {
          "base_uri": "https://localhost:8080/"
        },
        "id": "238f6ea4-fd9a-43a6-82b8-35aeb5f834c3",
        "outputId": "834cb0f9-6041-4385-bb58-add405935d7c"
      },
      "outputs": [
        {
          "output_type": "stream",
          "name": "stdout",
          "text": [
            "[4.74529019 5.28091233 5.11846572 5.18647684 4.56157009 5.94153804\n",
            " 5.67791213 5.1875266  5.9184726  4.89999431 4.11401843 4.81816564\n",
            " 6.55944917 4.54590356 5.15076404 5.27935583 5.56137799 5.17741341\n",
            " 5.50606796 5.30926079 4.15432495 5.25542486 4.98292477 5.18492997\n",
            " 4.91054992 4.83501281 4.6153078  4.22470594 5.13956507 3.94766814\n",
            " 4.92771037 5.2418133  4.6973807  4.6029162  5.59025114 4.99367775\n",
            " 4.60405314 4.05578834 5.13330389 6.09737077 4.43083181 5.24444636\n",
            " 5.4076802  4.4752234  4.65430171 4.33884762 5.04636663 5.21386519\n",
            " 4.98020461 4.9576386  4.81670463 5.45808593 5.40516957 5.22776237\n",
            " 4.66457082 4.94235635 6.70676371 5.38773946 4.67134584 4.8131749\n",
            " 5.45529103 4.87254016 4.59362312 4.75236474 4.39718117 4.71136158\n",
            " 5.58965398 4.37456263 4.84902188 4.87653148 4.31628735 4.70226084\n",
            " 5.22645747 4.91851878 5.13891317 4.8356652  5.3587681  5.06026165\n",
            " 5.42171176 5.11770749 5.3043894  5.48641183 4.5122806  5.38935851\n",
            " 5.74873692 4.46660014 5.55202065 5.78283986 5.11834712 4.61048829\n",
            " 4.77493054 4.5419535  5.13860599 4.01741587 4.34335162 5.43556682\n",
            " 5.09212962 4.68865477 5.11846572 5.19033732 5.02987033 3.8399221\n",
            " 4.53599833 4.44426948 5.35708948 4.53896624 4.37491409 4.57145338\n",
            " 6.51063019 5.81607475 4.73593057 5.17896887 6.15471976 4.87540806\n",
            " 4.79781505 5.41732409 4.86599765]\n"
          ]
        }
      ],
      "source": [
        "y_pred = linReg.predict(x_test)\n",
        "print(y_pred)"
      ]
    },
    {
      "cell_type": "code",
      "execution_count": null,
      "id": "cd0616a3-25cf-4409-aee9-151653920a17",
      "metadata": {
        "colab": {
          "base_uri": "https://localhost:8080/"
        },
        "id": "cd0616a3-25cf-4409-aee9-151653920a17",
        "outputId": "edb737b3-9e3c-447b-d8b2-6023d91e0cbb"
      },
      "outputs": [
        {
          "output_type": "stream",
          "name": "stdout",
          "text": [
            "[ 0.00523674 -0.02371772 -0.14711979 -0.03724498  0.41456804  0.61676684\n",
            " -0.06407861] 9.389308142257129\n"
          ]
        }
      ],
      "source": [
        "print(linReg.coef_,linReg.intercept_)"
      ]
    },
    {
      "cell_type": "code",
      "execution_count": null,
      "id": "371ddde4-bd8d-4e37-939c-d7a0f5c14a0e",
      "metadata": {
        "colab": {
          "base_uri": "https://localhost:8080/"
        },
        "id": "371ddde4-bd8d-4e37-939c-d7a0f5c14a0e",
        "outputId": "18e35adb-21bf-4983-a997-65381f001d9d"
      },
      "outputs": [
        {
          "output_type": "stream",
          "name": "stdout",
          "text": [
            "0.1134733714697449\n"
          ]
        }
      ],
      "source": [
        "accuracy = linReg.score(x_test,y_test)\n",
        "print(accuracy)"
      ]
    },
    {
      "cell_type": "code",
      "execution_count": null,
      "id": "247f586d-574e-4a6b-9f27-5c3dc228f794",
      "metadata": {
        "colab": {
          "base_uri": "https://localhost:8080/"
        },
        "id": "247f586d-574e-4a6b-9f27-5c3dc228f794",
        "outputId": "c922c0d5-721f-4ed2-bafd-1868077b3d76"
      },
      "outputs": [
        {
          "output_type": "stream",
          "name": "stdout",
          "text": [
            "       E10   SP98\n",
            "0     True  False\n",
            "1     True  False\n",
            "2     True  False\n",
            "3     True  False\n",
            "4     True  False\n",
            "..     ...    ...\n",
            "383  False   True\n",
            "384  False   True\n",
            "385  False   True\n",
            "386  False   True\n",
            "387  False   True\n",
            "\n",
            "[388 rows x 2 columns]\n"
          ]
        }
      ],
      "source": [
        "dum1 = pd.get_dummies(df['gas_type'])\n",
        "print(dum1)"
      ]
    },
    {
      "cell_type": "code",
      "execution_count": null,
      "id": "e01dabd3-95f9-4991-8387-2741ae86b2a1",
      "metadata": {
        "id": "e01dabd3-95f9-4991-8387-2741ae86b2a1"
      },
      "outputs": [],
      "source": [
        "df=pd.concat([df,dum1],axis=1)"
      ]
    },
    {
      "cell_type": "code",
      "execution_count": null,
      "id": "178b2e13-0886-4ce6-b958-cb263cc474ed",
      "metadata": {
        "id": "178b2e13-0886-4ce6-b958-cb263cc474ed"
      },
      "outputs": [],
      "source": [
        "df.drop(['gas_type'],axis=1,inplace=True)"
      ]
    },
    {
      "cell_type": "code",
      "execution_count": null,
      "id": "de198614-eefc-49f1-87f9-1bd1f89dcd55",
      "metadata": {
        "id": "de198614-eefc-49f1-87f9-1bd1f89dcd55"
      },
      "outputs": [],
      "source": [
        "x1=df.drop(['consume'],axis=1)"
      ]
    },
    {
      "cell_type": "code",
      "execution_count": null,
      "id": "578a70c5-13b7-418b-b535-21118301fe70",
      "metadata": {
        "id": "578a70c5-13b7-418b-b535-21118301fe70"
      },
      "outputs": [],
      "source": [
        "y1=df['consume']"
      ]
    },
    {
      "cell_type": "code",
      "execution_count": null,
      "id": "f773f12a-086e-432d-8f0b-65be7236f012",
      "metadata": {
        "colab": {
          "base_uri": "https://localhost:8080/"
        },
        "id": "f773f12a-086e-432d-8f0b-65be7236f012",
        "outputId": "4b6a8377-af2b-4ead-9831-3e0ba459dbe4"
      },
      "outputs": [
        {
          "output_type": "execute_result",
          "data": {
            "text/plain": [
              "Index(['distance', 'speed', 'temp_inside', 'temp_outside', 'AC', 'rain', 'sun',\n",
              "       'E10', 'SP98'],\n",
              "      dtype='object')"
            ]
          },
          "metadata": {},
          "execution_count": 35
        }
      ],
      "source": [
        "x1.columns"
      ]
    },
    {
      "cell_type": "code",
      "execution_count": null,
      "id": "9b5134ca-e55c-47ac-a681-8191a43b53ec",
      "metadata": {
        "id": "9b5134ca-e55c-47ac-a681-8191a43b53ec"
      },
      "outputs": [],
      "source": [
        "x1=x1.values\n",
        "y1=y1.values"
      ]
    },
    {
      "cell_type": "code",
      "execution_count": null,
      "id": "84b55c37-6643-4dda-8014-454971468971",
      "metadata": {
        "colab": {
          "base_uri": "https://localhost:8080/"
        },
        "id": "84b55c37-6643-4dda-8014-454971468971",
        "outputId": "7080a3da-17a2-4831-c5f0-2416c9bcaafa"
      },
      "outputs": [
        {
          "output_type": "execute_result",
          "data": {
            "text/plain": [
              "(271, 7)"
            ]
          },
          "metadata": {},
          "execution_count": 37
        }
      ],
      "source": [
        "x_train.shape"
      ]
    },
    {
      "cell_type": "code",
      "execution_count": null,
      "id": "cdd1674a-6632-44f7-b15c-bf4ce5c2c6c3",
      "metadata": {
        "colab": {
          "base_uri": "https://localhost:8080/"
        },
        "id": "cdd1674a-6632-44f7-b15c-bf4ce5c2c6c3",
        "outputId": "d2f2cc69-1794-47ae-975f-171866df0b54"
      },
      "outputs": [
        {
          "output_type": "execute_result",
          "data": {
            "text/plain": [
              "array([12.3, 62. , 21.5,  6. ,  0. ,  0. ,  0. ])"
            ]
          },
          "metadata": {},
          "execution_count": 38
        }
      ],
      "source": [
        "x_train[0]"
      ]
    },
    {
      "cell_type": "code",
      "execution_count": null,
      "id": "d578e635-1807-4fff-b4fb-2eeb4a009337",
      "metadata": {
        "id": "d578e635-1807-4fff-b4fb-2eeb4a009337"
      },
      "outputs": [],
      "source": [
        "#Lasso Regression model"
      ]
    },
    {
      "cell_type": "code",
      "execution_count": null,
      "id": "4193ab3e-edf3-48c5-b89e-994b7e68dc97",
      "metadata": {
        "colab": {
          "base_uri": "https://localhost:8080/",
          "height": 74
        },
        "id": "4193ab3e-edf3-48c5-b89e-994b7e68dc97",
        "outputId": "d71fe257-8d3f-43ab-f665-65e77ccf6d10"
      },
      "outputs": [
        {
          "output_type": "execute_result",
          "data": {
            "text/plain": [
              "Lasso(alpha=0.1)"
            ],
            "text/html": [
              "<style>#sk-container-id-2 {color: black;background-color: white;}#sk-container-id-2 pre{padding: 0;}#sk-container-id-2 div.sk-toggleable {background-color: white;}#sk-container-id-2 label.sk-toggleable__label {cursor: pointer;display: block;width: 100%;margin-bottom: 0;padding: 0.3em;box-sizing: border-box;text-align: center;}#sk-container-id-2 label.sk-toggleable__label-arrow:before {content: \"▸\";float: left;margin-right: 0.25em;color: #696969;}#sk-container-id-2 label.sk-toggleable__label-arrow:hover:before {color: black;}#sk-container-id-2 div.sk-estimator:hover label.sk-toggleable__label-arrow:before {color: black;}#sk-container-id-2 div.sk-toggleable__content {max-height: 0;max-width: 0;overflow: hidden;text-align: left;background-color: #f0f8ff;}#sk-container-id-2 div.sk-toggleable__content pre {margin: 0.2em;color: black;border-radius: 0.25em;background-color: #f0f8ff;}#sk-container-id-2 input.sk-toggleable__control:checked~div.sk-toggleable__content {max-height: 200px;max-width: 100%;overflow: auto;}#sk-container-id-2 input.sk-toggleable__control:checked~label.sk-toggleable__label-arrow:before {content: \"▾\";}#sk-container-id-2 div.sk-estimator input.sk-toggleable__control:checked~label.sk-toggleable__label {background-color: #d4ebff;}#sk-container-id-2 div.sk-label input.sk-toggleable__control:checked~label.sk-toggleable__label {background-color: #d4ebff;}#sk-container-id-2 input.sk-hidden--visually {border: 0;clip: rect(1px 1px 1px 1px);clip: rect(1px, 1px, 1px, 1px);height: 1px;margin: -1px;overflow: hidden;padding: 0;position: absolute;width: 1px;}#sk-container-id-2 div.sk-estimator {font-family: monospace;background-color: #f0f8ff;border: 1px dotted black;border-radius: 0.25em;box-sizing: border-box;margin-bottom: 0.5em;}#sk-container-id-2 div.sk-estimator:hover {background-color: #d4ebff;}#sk-container-id-2 div.sk-parallel-item::after {content: \"\";width: 100%;border-bottom: 1px solid gray;flex-grow: 1;}#sk-container-id-2 div.sk-label:hover label.sk-toggleable__label {background-color: #d4ebff;}#sk-container-id-2 div.sk-serial::before {content: \"\";position: absolute;border-left: 1px solid gray;box-sizing: border-box;top: 0;bottom: 0;left: 50%;z-index: 0;}#sk-container-id-2 div.sk-serial {display: flex;flex-direction: column;align-items: center;background-color: white;padding-right: 0.2em;padding-left: 0.2em;position: relative;}#sk-container-id-2 div.sk-item {position: relative;z-index: 1;}#sk-container-id-2 div.sk-parallel {display: flex;align-items: stretch;justify-content: center;background-color: white;position: relative;}#sk-container-id-2 div.sk-item::before, #sk-container-id-2 div.sk-parallel-item::before {content: \"\";position: absolute;border-left: 1px solid gray;box-sizing: border-box;top: 0;bottom: 0;left: 50%;z-index: -1;}#sk-container-id-2 div.sk-parallel-item {display: flex;flex-direction: column;z-index: 1;position: relative;background-color: white;}#sk-container-id-2 div.sk-parallel-item:first-child::after {align-self: flex-end;width: 50%;}#sk-container-id-2 div.sk-parallel-item:last-child::after {align-self: flex-start;width: 50%;}#sk-container-id-2 div.sk-parallel-item:only-child::after {width: 0;}#sk-container-id-2 div.sk-dashed-wrapped {border: 1px dashed gray;margin: 0 0.4em 0.5em 0.4em;box-sizing: border-box;padding-bottom: 0.4em;background-color: white;}#sk-container-id-2 div.sk-label label {font-family: monospace;font-weight: bold;display: inline-block;line-height: 1.2em;}#sk-container-id-2 div.sk-label-container {text-align: center;}#sk-container-id-2 div.sk-container {/* jupyter's `normalize.less` sets `[hidden] { display: none; }` but bootstrap.min.css set `[hidden] { display: none !important; }` so we also need the `!important` here to be able to override the default hidden behavior on the sphinx rendered scikit-learn.org. See: https://github.com/scikit-learn/scikit-learn/issues/21755 */display: inline-block !important;position: relative;}#sk-container-id-2 div.sk-text-repr-fallback {display: none;}</style><div id=\"sk-container-id-2\" class=\"sk-top-container\"><div class=\"sk-text-repr-fallback\"><pre>Lasso(alpha=0.1)</pre><b>In a Jupyter environment, please rerun this cell to show the HTML representation or trust the notebook. <br />On GitHub, the HTML representation is unable to render, please try loading this page with nbviewer.org.</b></div><div class=\"sk-container\" hidden><div class=\"sk-item\"><div class=\"sk-estimator sk-toggleable\"><input class=\"sk-toggleable__control sk-hidden--visually\" id=\"sk-estimator-id-2\" type=\"checkbox\" checked><label for=\"sk-estimator-id-2\" class=\"sk-toggleable__label sk-toggleable__label-arrow\">Lasso</label><div class=\"sk-toggleable__content\"><pre>Lasso(alpha=0.1)</pre></div></div></div></div></div>"
            ]
          },
          "metadata": {},
          "execution_count": 40
        }
      ],
      "source": [
        "lassoReg = linear_model.Lasso(alpha = 0.1)\n",
        "lassoReg.fit(x,y)\n"
      ]
    },
    {
      "cell_type": "code",
      "execution_count": null,
      "id": "297f1a4a-f629-4a30-b23a-15ae5cd6bf51",
      "metadata": {
        "colab": {
          "base_uri": "https://localhost:8080/"
        },
        "id": "297f1a4a-f629-4a30-b23a-15ae5cd6bf51",
        "outputId": "57996e94-bc16-4028-d968-b299a6487ecd"
      },
      "outputs": [
        {
          "output_type": "stream",
          "name": "stdout",
          "text": [
            "[4.76941502 5.27586074 5.18021125 5.2316788  4.63086938 5.24266883\n",
            " 4.8207446  5.15554398 5.51295973 4.84646057 4.52986759 4.83292137\n",
            " 5.33655281 4.72545711 5.08746171 5.11931757 5.5080927  5.22240192\n",
            " 5.21444638 5.16828998 4.09064564 4.78126355 5.05262754 5.16826016\n",
            " 4.90314034 4.88386084 4.0544118  4.24959439 5.19706477 4.21123313\n",
            " 5.07115875 5.21800895 4.68122841 4.70194683 4.72886662 5.14171373\n",
            " 4.74986308 4.02051063 4.96318495 5.41663463 4.55190734 5.38102414\n",
            " 5.23177957 5.14061082 4.8226537  4.33289538 5.12126954 4.86763056\n",
            " 4.66886863 5.27738363 4.82069224 5.41230135 5.46354875 5.19014118\n",
            " 4.69397269 5.0589763  5.37412475 5.372755   4.76365791 4.80564703\n",
            " 5.46209122 4.92188991 4.62339904 4.82148722 4.54763935 4.82210874\n",
            " 5.58987086 4.32960525 4.4550018  4.46527903 4.71925754 4.85746927\n",
            " 5.18725982 4.88925034 5.12102512 4.94774226 5.33938575 5.21096037\n",
            " 5.41767224 5.36020495 5.30554244 4.56589072 4.58342718 5.05156572\n",
            " 5.44064878 4.73935271 5.22371198 5.48516853 5.19739691 4.69103336\n",
            " 4.96499888 4.63946504 5.17171636 4.17946882 4.52364208 5.40627733\n",
            " 5.16234998 4.62922151 5.18021125 5.26995616 5.11724979 3.91636625\n",
            " 4.60078458 4.53195963 5.27467388 4.5753466  4.35999237 4.67115101\n",
            " 5.41722806 5.50142295 4.72923416 5.2805617  5.59628492 4.53440802\n",
            " 4.86170178 5.45393974 4.7934888 ]\n"
          ]
        }
      ],
      "source": [
        "y_pred = lassoReg.predict(x_test)\n",
        "print(y_pred)"
      ]
    },
    {
      "cell_type": "code",
      "execution_count": null,
      "id": "71ff671c-ddbe-4af9-8efb-20fb733e8ce1",
      "metadata": {
        "colab": {
          "base_uri": "https://localhost:8080/"
        },
        "id": "71ff671c-ddbe-4af9-8efb-20fb733e8ce1",
        "outputId": "cc1beac3-5c03-4130-f1c6-66155e44d8f3"
      },
      "outputs": [
        {
          "output_type": "stream",
          "name": "stdout",
          "text": [
            "0.1456141532515728\n"
          ]
        }
      ],
      "source": [
        "accuracy = lassoReg.score(x_test,y_test)\n",
        "print(accuracy)"
      ]
    },
    {
      "cell_type": "code",
      "execution_count": null,
      "id": "e75a5163-4107-46b6-a938-0d2ed97394ff",
      "metadata": {
        "id": "e75a5163-4107-46b6-a938-0d2ed97394ff"
      },
      "outputs": [],
      "source": [
        "#SVM MODEL"
      ]
    },
    {
      "cell_type": "code",
      "execution_count": null,
      "id": "be06ebe3-5cbd-486f-a60d-55999e727f8d",
      "metadata": {
        "id": "be06ebe3-5cbd-486f-a60d-55999e727f8d"
      },
      "outputs": [],
      "source": [
        "svr = SVR().fit(x,y)"
      ]
    },
    {
      "cell_type": "code",
      "execution_count": null,
      "id": "b84410a4-7db2-48da-afc0-69cee3bf4e09",
      "metadata": {
        "id": "b84410a4-7db2-48da-afc0-69cee3bf4e09"
      },
      "outputs": [],
      "source": [
        "\n",
        "y_pred = svr.predict(x_test)"
      ]
    },
    {
      "cell_type": "code",
      "execution_count": null,
      "id": "f7ca6bbf-b5fb-46f4-936e-b3a996d7f86b",
      "metadata": {
        "colab": {
          "base_uri": "https://localhost:8080/"
        },
        "id": "f7ca6bbf-b5fb-46f4-936e-b3a996d7f86b",
        "outputId": "6448b1a2-2295-4697-fcd4-17679a1af695"
      },
      "outputs": [
        {
          "output_type": "stream",
          "name": "stdout",
          "text": [
            "0.4176454053391483\n"
          ]
        }
      ],
      "source": [
        "accuracy = svr.score(x_test,y_test)\n",
        "print(accuracy)"
      ]
    },
    {
      "cell_type": "code",
      "execution_count": null,
      "id": "06b385db-437b-4c4a-ae9b-e488cb0bf570",
      "metadata": {
        "id": "06b385db-437b-4c4a-ae9b-e488cb0bf570"
      },
      "outputs": [],
      "source": [
        "#Decision Tree Model:"
      ]
    },
    {
      "cell_type": "code",
      "execution_count": null,
      "id": "8d6aed9a-ff54-4ac3-9196-60ea745134cf",
      "metadata": {
        "colab": {
          "base_uri": "https://localhost:8080/",
          "height": 74
        },
        "id": "8d6aed9a-ff54-4ac3-9196-60ea745134cf",
        "outputId": "9f76829b-a883-41e0-83bd-d0c799180252"
      },
      "outputs": [
        {
          "output_type": "execute_result",
          "data": {
            "text/plain": [
              "DecisionTreeRegressor(random_state=0)"
            ],
            "text/html": [
              "<style>#sk-container-id-3 {color: black;background-color: white;}#sk-container-id-3 pre{padding: 0;}#sk-container-id-3 div.sk-toggleable {background-color: white;}#sk-container-id-3 label.sk-toggleable__label {cursor: pointer;display: block;width: 100%;margin-bottom: 0;padding: 0.3em;box-sizing: border-box;text-align: center;}#sk-container-id-3 label.sk-toggleable__label-arrow:before {content: \"▸\";float: left;margin-right: 0.25em;color: #696969;}#sk-container-id-3 label.sk-toggleable__label-arrow:hover:before {color: black;}#sk-container-id-3 div.sk-estimator:hover label.sk-toggleable__label-arrow:before {color: black;}#sk-container-id-3 div.sk-toggleable__content {max-height: 0;max-width: 0;overflow: hidden;text-align: left;background-color: #f0f8ff;}#sk-container-id-3 div.sk-toggleable__content pre {margin: 0.2em;color: black;border-radius: 0.25em;background-color: #f0f8ff;}#sk-container-id-3 input.sk-toggleable__control:checked~div.sk-toggleable__content {max-height: 200px;max-width: 100%;overflow: auto;}#sk-container-id-3 input.sk-toggleable__control:checked~label.sk-toggleable__label-arrow:before {content: \"▾\";}#sk-container-id-3 div.sk-estimator input.sk-toggleable__control:checked~label.sk-toggleable__label {background-color: #d4ebff;}#sk-container-id-3 div.sk-label input.sk-toggleable__control:checked~label.sk-toggleable__label {background-color: #d4ebff;}#sk-container-id-3 input.sk-hidden--visually {border: 0;clip: rect(1px 1px 1px 1px);clip: rect(1px, 1px, 1px, 1px);height: 1px;margin: -1px;overflow: hidden;padding: 0;position: absolute;width: 1px;}#sk-container-id-3 div.sk-estimator {font-family: monospace;background-color: #f0f8ff;border: 1px dotted black;border-radius: 0.25em;box-sizing: border-box;margin-bottom: 0.5em;}#sk-container-id-3 div.sk-estimator:hover {background-color: #d4ebff;}#sk-container-id-3 div.sk-parallel-item::after {content: \"\";width: 100%;border-bottom: 1px solid gray;flex-grow: 1;}#sk-container-id-3 div.sk-label:hover label.sk-toggleable__label {background-color: #d4ebff;}#sk-container-id-3 div.sk-serial::before {content: \"\";position: absolute;border-left: 1px solid gray;box-sizing: border-box;top: 0;bottom: 0;left: 50%;z-index: 0;}#sk-container-id-3 div.sk-serial {display: flex;flex-direction: column;align-items: center;background-color: white;padding-right: 0.2em;padding-left: 0.2em;position: relative;}#sk-container-id-3 div.sk-item {position: relative;z-index: 1;}#sk-container-id-3 div.sk-parallel {display: flex;align-items: stretch;justify-content: center;background-color: white;position: relative;}#sk-container-id-3 div.sk-item::before, #sk-container-id-3 div.sk-parallel-item::before {content: \"\";position: absolute;border-left: 1px solid gray;box-sizing: border-box;top: 0;bottom: 0;left: 50%;z-index: -1;}#sk-container-id-3 div.sk-parallel-item {display: flex;flex-direction: column;z-index: 1;position: relative;background-color: white;}#sk-container-id-3 div.sk-parallel-item:first-child::after {align-self: flex-end;width: 50%;}#sk-container-id-3 div.sk-parallel-item:last-child::after {align-self: flex-start;width: 50%;}#sk-container-id-3 div.sk-parallel-item:only-child::after {width: 0;}#sk-container-id-3 div.sk-dashed-wrapped {border: 1px dashed gray;margin: 0 0.4em 0.5em 0.4em;box-sizing: border-box;padding-bottom: 0.4em;background-color: white;}#sk-container-id-3 div.sk-label label {font-family: monospace;font-weight: bold;display: inline-block;line-height: 1.2em;}#sk-container-id-3 div.sk-label-container {text-align: center;}#sk-container-id-3 div.sk-container {/* jupyter's `normalize.less` sets `[hidden] { display: none; }` but bootstrap.min.css set `[hidden] { display: none !important; }` so we also need the `!important` here to be able to override the default hidden behavior on the sphinx rendered scikit-learn.org. See: https://github.com/scikit-learn/scikit-learn/issues/21755 */display: inline-block !important;position: relative;}#sk-container-id-3 div.sk-text-repr-fallback {display: none;}</style><div id=\"sk-container-id-3\" class=\"sk-top-container\"><div class=\"sk-text-repr-fallback\"><pre>DecisionTreeRegressor(random_state=0)</pre><b>In a Jupyter environment, please rerun this cell to show the HTML representation or trust the notebook. <br />On GitHub, the HTML representation is unable to render, please try loading this page with nbviewer.org.</b></div><div class=\"sk-container\" hidden><div class=\"sk-item\"><div class=\"sk-estimator sk-toggleable\"><input class=\"sk-toggleable__control sk-hidden--visually\" id=\"sk-estimator-id-3\" type=\"checkbox\" checked><label for=\"sk-estimator-id-3\" class=\"sk-toggleable__label sk-toggleable__label-arrow\">DecisionTreeRegressor</label><div class=\"sk-toggleable__content\"><pre>DecisionTreeRegressor(random_state=0)</pre></div></div></div></div></div>"
            ]
          },
          "metadata": {},
          "execution_count": 48
        }
      ],
      "source": [
        "dt = DecisionTreeRegressor(random_state = 0)\n",
        "dt.fit(x,y)"
      ]
    },
    {
      "cell_type": "code",
      "execution_count": null,
      "id": "1849b142-bfd9-4afc-a2d4-2b34e4b99f97",
      "metadata": {
        "colab": {
          "base_uri": "https://localhost:8080/"
        },
        "id": "1849b142-bfd9-4afc-a2d4-2b34e4b99f97",
        "outputId": "1d22e69a-cd61-4255-ce23-7d2abd4926b3"
      },
      "outputs": [
        {
          "output_type": "stream",
          "name": "stdout",
          "text": [
            "[5.6  5.1  5.55 4.6  4.3  7.1  5.   4.8  5.1  4.7  4.3  4.4  5.4  6.2\n",
            " 7.4  4.7  5.1  4.6  4.9  5.   4.3  4.6  3.9  4.6  4.8  5.1  4.6  3.8\n",
            " 4.5  4.2  4.8  5.3  3.8  4.1  4.9  4.4  4.1  4.6  3.6  5.4  5.4  4.9\n",
            " 4.3  5.5  6.5  4.2  6.   5.   3.6  4.9  3.9  4.9  5.7  5.   4.9  3.9\n",
            " 5.9  5.1  5.3  4.1  6.3  4.1  4.7  3.9  5.3  6.4  9.9  4.1  4.   5.2\n",
            " 5.   4.7  5.7  3.9  4.9  4.7  4.7  4.4  5.3  4.6  4.5  5.8  4.1  5.1\n",
            " 4.6  5.2  5.   4.6  4.5  4.1  5.   4.   5.4  4.8  4.   5.6  4.6  4.4\n",
            " 5.55 4.7  4.5  5.   3.7  3.7  4.4  4.5  4.   5.6  7.9  4.   3.9  7.25\n",
            " 6.1  3.7  5.1  5.1  4.1 ]\n"
          ]
        }
      ],
      "source": [
        "y_pred = dt.predict(x_test)\n",
        "print(y_pred)"
      ]
    },
    {
      "cell_type": "code",
      "execution_count": null,
      "id": "a621ae85-9e47-4e97-b30c-ed2b6afd7c99",
      "metadata": {
        "colab": {
          "base_uri": "https://localhost:8080/"
        },
        "id": "a621ae85-9e47-4e97-b30c-ed2b6afd7c99",
        "outputId": "707fdd56-4cbf-4323-90ba-d246cdb98c4e"
      },
      "outputs": [
        {
          "output_type": "stream",
          "name": "stdout",
          "text": [
            "0.9864521202267205\n"
          ]
        }
      ],
      "source": [
        "accuracy = dt.score(x_test,y_test)\n",
        "print(accuracy)"
      ]
    },
    {
      "cell_type": "code",
      "execution_count": null,
      "id": "fbb3949b-cd80-4440-938b-d85abf2b2675",
      "metadata": {
        "id": "fbb3949b-cd80-4440-938b-d85abf2b2675"
      },
      "outputs": [],
      "source": [
        "#Random Forest Model:"
      ]
    },
    {
      "cell_type": "code",
      "execution_count": null,
      "id": "a45d1b65-4191-453d-b0e7-ba33fb860f2d",
      "metadata": {
        "colab": {
          "base_uri": "https://localhost:8080/",
          "height": 74
        },
        "id": "a45d1b65-4191-453d-b0e7-ba33fb860f2d",
        "outputId": "a68ab1ed-8325-4137-de46-d092d4a0e070"
      },
      "outputs": [
        {
          "output_type": "execute_result",
          "data": {
            "text/plain": [
              "RandomForestRegressor(random_state=0)"
            ],
            "text/html": [
              "<style>#sk-container-id-4 {color: black;background-color: white;}#sk-container-id-4 pre{padding: 0;}#sk-container-id-4 div.sk-toggleable {background-color: white;}#sk-container-id-4 label.sk-toggleable__label {cursor: pointer;display: block;width: 100%;margin-bottom: 0;padding: 0.3em;box-sizing: border-box;text-align: center;}#sk-container-id-4 label.sk-toggleable__label-arrow:before {content: \"▸\";float: left;margin-right: 0.25em;color: #696969;}#sk-container-id-4 label.sk-toggleable__label-arrow:hover:before {color: black;}#sk-container-id-4 div.sk-estimator:hover label.sk-toggleable__label-arrow:before {color: black;}#sk-container-id-4 div.sk-toggleable__content {max-height: 0;max-width: 0;overflow: hidden;text-align: left;background-color: #f0f8ff;}#sk-container-id-4 div.sk-toggleable__content pre {margin: 0.2em;color: black;border-radius: 0.25em;background-color: #f0f8ff;}#sk-container-id-4 input.sk-toggleable__control:checked~div.sk-toggleable__content {max-height: 200px;max-width: 100%;overflow: auto;}#sk-container-id-4 input.sk-toggleable__control:checked~label.sk-toggleable__label-arrow:before {content: \"▾\";}#sk-container-id-4 div.sk-estimator input.sk-toggleable__control:checked~label.sk-toggleable__label {background-color: #d4ebff;}#sk-container-id-4 div.sk-label input.sk-toggleable__control:checked~label.sk-toggleable__label {background-color: #d4ebff;}#sk-container-id-4 input.sk-hidden--visually {border: 0;clip: rect(1px 1px 1px 1px);clip: rect(1px, 1px, 1px, 1px);height: 1px;margin: -1px;overflow: hidden;padding: 0;position: absolute;width: 1px;}#sk-container-id-4 div.sk-estimator {font-family: monospace;background-color: #f0f8ff;border: 1px dotted black;border-radius: 0.25em;box-sizing: border-box;margin-bottom: 0.5em;}#sk-container-id-4 div.sk-estimator:hover {background-color: #d4ebff;}#sk-container-id-4 div.sk-parallel-item::after {content: \"\";width: 100%;border-bottom: 1px solid gray;flex-grow: 1;}#sk-container-id-4 div.sk-label:hover label.sk-toggleable__label {background-color: #d4ebff;}#sk-container-id-4 div.sk-serial::before {content: \"\";position: absolute;border-left: 1px solid gray;box-sizing: border-box;top: 0;bottom: 0;left: 50%;z-index: 0;}#sk-container-id-4 div.sk-serial {display: flex;flex-direction: column;align-items: center;background-color: white;padding-right: 0.2em;padding-left: 0.2em;position: relative;}#sk-container-id-4 div.sk-item {position: relative;z-index: 1;}#sk-container-id-4 div.sk-parallel {display: flex;align-items: stretch;justify-content: center;background-color: white;position: relative;}#sk-container-id-4 div.sk-item::before, #sk-container-id-4 div.sk-parallel-item::before {content: \"\";position: absolute;border-left: 1px solid gray;box-sizing: border-box;top: 0;bottom: 0;left: 50%;z-index: -1;}#sk-container-id-4 div.sk-parallel-item {display: flex;flex-direction: column;z-index: 1;position: relative;background-color: white;}#sk-container-id-4 div.sk-parallel-item:first-child::after {align-self: flex-end;width: 50%;}#sk-container-id-4 div.sk-parallel-item:last-child::after {align-self: flex-start;width: 50%;}#sk-container-id-4 div.sk-parallel-item:only-child::after {width: 0;}#sk-container-id-4 div.sk-dashed-wrapped {border: 1px dashed gray;margin: 0 0.4em 0.5em 0.4em;box-sizing: border-box;padding-bottom: 0.4em;background-color: white;}#sk-container-id-4 div.sk-label label {font-family: monospace;font-weight: bold;display: inline-block;line-height: 1.2em;}#sk-container-id-4 div.sk-label-container {text-align: center;}#sk-container-id-4 div.sk-container {/* jupyter's `normalize.less` sets `[hidden] { display: none; }` but bootstrap.min.css set `[hidden] { display: none !important; }` so we also need the `!important` here to be able to override the default hidden behavior on the sphinx rendered scikit-learn.org. See: https://github.com/scikit-learn/scikit-learn/issues/21755 */display: inline-block !important;position: relative;}#sk-container-id-4 div.sk-text-repr-fallback {display: none;}</style><div id=\"sk-container-id-4\" class=\"sk-top-container\"><div class=\"sk-text-repr-fallback\"><pre>RandomForestRegressor(random_state=0)</pre><b>In a Jupyter environment, please rerun this cell to show the HTML representation or trust the notebook. <br />On GitHub, the HTML representation is unable to render, please try loading this page with nbviewer.org.</b></div><div class=\"sk-container\" hidden><div class=\"sk-item\"><div class=\"sk-estimator sk-toggleable\"><input class=\"sk-toggleable__control sk-hidden--visually\" id=\"sk-estimator-id-4\" type=\"checkbox\" checked><label for=\"sk-estimator-id-4\" class=\"sk-toggleable__label sk-toggleable__label-arrow\">RandomForestRegressor</label><div class=\"sk-toggleable__content\"><pre>RandomForestRegressor(random_state=0)</pre></div></div></div></div></div>"
            ]
          },
          "metadata": {},
          "execution_count": 52
        }
      ],
      "source": [
        "rf = RandomForestRegressor(n_estimators = 100 , random_state = 0)\n",
        "rf.fit(x,y)"
      ]
    },
    {
      "cell_type": "code",
      "execution_count": null,
      "id": "259732a9-166e-45c4-86a3-eca67f7a5d02",
      "metadata": {
        "colab": {
          "base_uri": "https://localhost:8080/"
        },
        "id": "259732a9-166e-45c4-86a3-eca67f7a5d02",
        "outputId": "1f41e43a-51aa-4b15-ff5c-c2bad71c7e84"
      },
      "outputs": [
        {
          "output_type": "stream",
          "name": "stdout",
          "text": [
            "[5.291      5.176      5.51565    4.547      4.271      6.474\n",
            " 4.98525    4.788      5.21       4.666      4.186      4.288\n",
            " 5.423      6.042      7.531      4.76       5.191      4.853\n",
            " 4.964      4.83       4.323      4.854      4.186      4.674\n",
            " 4.872      4.973      4.797      4.006      4.53       4.274\n",
            " 4.917      5.195      3.899      4.125      5.012      4.667\n",
            " 4.23191667 4.615      3.809      5.334      5.319      4.786\n",
            " 4.38       5.299      6.1305     4.285      6.851      4.776\n",
            " 3.801      5.103      3.98       5.015      5.621      4.988\n",
            " 4.925      3.928      5.714      5.167      5.26       4.173\n",
            " 6.055      4.099      4.674      4.494      5.201      5.746\n",
            " 9.257      4.025      4.053      5.172      4.87       4.65025\n",
            " 5.518      4.062      4.838      4.6361     4.69       4.537\n",
            " 5.52       4.64       4.659      5.484      3.993      5.107\n",
            " 5.089      5.139      5.034      4.967      4.584      4.054\n",
            " 4.965      4.05       5.287      4.75       4.33       5.334\n",
            " 4.601      4.215      5.51565    4.647      4.629      4.695\n",
            " 3.771      3.819      4.632      4.434      4.125      5.316\n",
            " 8.087      4.567      3.925      7.0729     5.871      3.793\n",
            " 4.9075     4.945      4.295     ]\n"
          ]
        }
      ],
      "source": [
        "y_pred = rf.predict(x_test)\n",
        "print(y_pred)"
      ]
    },
    {
      "cell_type": "code",
      "execution_count": null,
      "id": "fa8ceed8-0e3d-4c23-934c-dd002bea3476",
      "metadata": {
        "colab": {
          "base_uri": "https://localhost:8080/"
        },
        "id": "fa8ceed8-0e3d-4c23-934c-dd002bea3476",
        "outputId": "01aed8f5-7730-4958-839d-b0e64e5604f4"
      },
      "outputs": [
        {
          "output_type": "stream",
          "name": "stdout",
          "text": [
            "0.9354691820163654\n"
          ]
        }
      ],
      "source": [
        "accuracy = rf.score(x_test,y_test)\n",
        "print(accuracy)"
      ]
    },
    {
      "cell_type": "code",
      "execution_count": null,
      "id": "ac770c85-d9f3-4f40-bae6-be831525a2af",
      "metadata": {
        "id": "ac770c85-d9f3-4f40-bae6-be831525a2af"
      },
      "outputs": [],
      "source": [
        "#Testing Model With Multiple Evaluation Metrics"
      ]
    },
    {
      "cell_type": "code",
      "execution_count": null,
      "id": "f7df1a19-3717-4f48-87f4-dc2967300d98",
      "metadata": {
        "id": "f7df1a19-3717-4f48-87f4-dc2967300d98"
      },
      "outputs": [],
      "source": [
        "#Compare the Model"
      ]
    },
    {
      "cell_type": "code",
      "execution_count": null,
      "id": "1475e34c-6255-4550-bc98-8aaebad084f4",
      "metadata": {
        "colab": {
          "base_uri": "https://localhost:8080/"
        },
        "id": "1475e34c-6255-4550-bc98-8aaebad084f4",
        "outputId": "69665dab-dbae-48b5-8168-093d60794cae"
      },
      "outputs": [
        {
          "output_type": "stream",
          "name": "stdout",
          "text": [
            "Prediction Evaluation using Linear Regression\n",
            "Mean Absolute Error: 0.6635761182069623\n",
            "Mean Squared Error: 0.742453260904708\n",
            "Root Mean Squared Error: 0.8616572757800562\n",
            "R-squared: 0.1134733714697449\n"
          ]
        }
      ],
      "source": [
        "# Assuming 'x_test' is available in the environment and is a pandas DataFrame or a NumPy array.\n",
        "y_pred = linReg.predict(x_test)  # Predict on the entire x_test dataset\n",
        "\n",
        "print(\"Prediction Evaluation using Linear Regression\")\n",
        "print('Mean Absolute Error:', mean_absolute_error(y_test, y_pred))\n",
        "print('Mean Squared Error:', mean_squared_error(y_test, y_pred))\n",
        "print('Root Mean Squared Error:', np.sqrt(mean_squared_error(y_test, y_pred)))\n",
        "print('R-squared:', r2_score(y_test, y_pred))"
      ]
    },
    {
      "cell_type": "code",
      "execution_count": null,
      "id": "9cacc988-bca5-40e5-9a0e-36ff9492f95f",
      "metadata": {
        "colab": {
          "base_uri": "https://localhost:8080/"
        },
        "id": "9cacc988-bca5-40e5-9a0e-36ff9492f95f",
        "outputId": "346b44fc-7671-48b4-c3dd-09ef8400e476"
      },
      "outputs": [
        {
          "output_type": "stream",
          "name": "stdout",
          "text": [
            "Prediction Evaluation using lasso Regression\n",
            "Mean Absolute Error: 0.6296444264267669\n",
            "Mean Squared Error: 0.7155358198781405\n",
            "Root Mean Squared Error: 0.8458935038633058\n",
            "R-squared: 0.1456141532515728\n"
          ]
        }
      ],
      "source": [
        "\n",
        "y_pred = lassoReg.predict(x_test)\n",
        "print(\"Prediction Evaluation using lasso Regression\")\n",
        "print('Mean Absolute Error:', mean_absolute_error(y_test, y_pred))\n",
        "print('Mean Squared Error:', mean_squared_error(y_test, y_pred))\n",
        "print('Root Mean Squared Error:', np.sqrt(mean_squared_error(y_test, y_pred)))\n",
        "print('R-squared:', r2_score(y_test, y_pred))"
      ]
    },
    {
      "cell_type": "code",
      "execution_count": null,
      "id": "92cf6aa2-134f-4fb3-b058-15054cefbdde",
      "metadata": {
        "colab": {
          "base_uri": "https://localhost:8080/"
        },
        "id": "92cf6aa2-134f-4fb3-b058-15054cefbdde",
        "outputId": "3f81d0f1-b3d4-486c-ec9c-008fba35be95"
      },
      "outputs": [
        {
          "output_type": "stream",
          "name": "stdout",
          "text": [
            "Prediction Evaluation using svr Regression\n",
            "Mean Absolute Error: 0.49633196595520446\n",
            "Mean Squared Error: 0.48771357102448615\n",
            "Root Mean Squared Error: 0.698364926828722\n",
            "R-squared: 0.4176454053391483\n"
          ]
        }
      ],
      "source": [
        "\n",
        "y_pred = svr.predict(x_test)\n",
        "print(\"Prediction Evaluation using svr Regression\")\n",
        "print('Mean Absolute Error:', mean_absolute_error(y_test, y_pred))\n",
        "print('Mean Squared Error:', mean_squared_error(y_test, y_pred))\n",
        "print('Root Mean Squared Error:', np.sqrt(mean_squared_error(y_test, y_pred)))\n",
        "print('R-squared:', r2_score(y_test, y_pred))"
      ]
    },
    {
      "cell_type": "code",
      "execution_count": null,
      "id": "1227f1c7-91c0-4639-b983-7e8e496cb3cf",
      "metadata": {
        "colab": {
          "base_uri": "https://localhost:8080/"
        },
        "id": "1227f1c7-91c0-4639-b983-7e8e496cb3cf",
        "outputId": "a15f8ceb-01fc-4753-eb55-ab0dc9939610"
      },
      "outputs": [
        {
          "output_type": "stream",
          "name": "stdout",
          "text": [
            "Prediction Evaluation using decisiontree Regression\n",
            "Mean Absolute Error: 0.01666666666666666\n",
            "Mean Squared Error: 0.011346153846153837\n",
            "Root Mean Squared Error: 0.10651832633943249\n",
            "R-squared: 0.9864521202267205\n"
          ]
        }
      ],
      "source": [
        "y_pred = dt.predict(x_test)\n",
        "print(\"Prediction Evaluation using decisiontree Regression\")\n",
        "print('Mean Absolute Error:', mean_absolute_error(y_test, y_pred))\n",
        "print('Mean Squared Error:', mean_squared_error(y_test, y_pred))\n",
        "print('Root Mean Squared Error:', np.sqrt(mean_squared_error(y_test, y_pred)))\n",
        "print('R-squared:', r2_score(y_test, y_pred))"
      ]
    },
    {
      "cell_type": "code",
      "execution_count": null,
      "id": "3be2a97e-c5af-45bb-a965-7f0581c9a07d",
      "metadata": {
        "colab": {
          "base_uri": "https://localhost:8080/"
        },
        "id": "3be2a97e-c5af-45bb-a965-7f0581c9a07d",
        "outputId": "e472dae3-2986-41e4-bd30-bc6417867216"
      },
      "outputs": [
        {
          "output_type": "stream",
          "name": "stdout",
          "text": [
            "Prediction Evaluation using Random Regression\n",
            "Mean Absolute Error: 0.1625574074074077\n",
            "Mean Squared Error: 0.05404362903371328\n",
            "Root Mean Squared Error: 0.23247285655257321\n",
            "R-squared: 0.9354691820163654\n"
          ]
        }
      ],
      "source": [
        "y_pred = rf.predict(x_test)\n",
        "print(\"Prediction Evaluation using Random Regression\")\n",
        "print('Mean Absolute Error:', mean_absolute_error(y_test, y_pred))\n",
        "print('Mean Squared Error:', mean_squared_error(y_test, y_pred))\n",
        "print('Root Mean Squared Error:', np.sqrt(mean_squared_error(y_test, y_pred)))\n",
        "print('R-squared:', r2_score(y_test, y_pred))"
      ]
    },
    {
      "cell_type": "code",
      "execution_count": null,
      "id": "2439e74b-a632-429d-ab0a-2604018586c1",
      "metadata": {
        "id": "2439e74b-a632-429d-ab0a-2604018586c1"
      },
      "outputs": [],
      "source": [
        "import pickle\n",
        "pickle.dump(dt,open('fuel2.pkl','wb'))"
      ]
    }
  ],
  "metadata": {
    "colab": {
      "provenance": []
    },
    "kernelspec": {
      "display_name": "Python 3 (ipykernel)",
      "language": "python",
      "name": "python3"
    },
    "language_info": {
      "codemirror_mode": {
        "name": "ipython",
        "version": 3
      },
      "file_extension": ".py",
      "mimetype": "text/x-python",
      "name": "python",
      "nbconvert_exporter": "python",
      "pygments_lexer": "ipython3",
      "version": "3.11.7"
    }
  },
  "nbformat": 4,
  "nbformat_minor": 5
}